{
 "cells": [
  {
   "cell_type": "code",
   "execution_count": 168,
   "id": "411fee8f-65d6-4919-973f-db41d131e42f",
   "metadata": {},
   "outputs": [
    {
     "name": "stdout",
     "output_type": "stream",
     "text": [
      "C:\\Users\\user\\Desktop\\Git\\Lightgbm\n"
     ]
    }
   ],
   "source": [
    "import lightgbm as lgb\n",
    "import pandas as pd\n",
    "import datetime\n",
    "import numpy as np\n",
    "\n",
    "%cd C:\\Users\\user\\Desktop\\Git\\Lightgbm\n",
    "\n",
    "data = pd.read_csv('med_close.csv') # reading all the data from part 1 from med_close.csv\n",
    "\n",
    "# define some utility functions here\n",
    "def subtract_month(datetime_object,number_of_month_to_be_subtracted):\n",
    "    date=datetime_object.day\n",
    "    month=datetime_object.month\n",
    "    year=datetime_object.year\n",
    "\n",
    "    new_month=month-number_of_month_to_be_subtracted\n",
    "    \n",
    "    if new_month<=0:\n",
    "        year=year-1\n",
    "        new_month=12+new_month\n",
    "    \n",
    "    return datetime.datetime(year,new_month,date)\n",
    "\n",
    "def add_month(datetime_object,number_of_month_to_be_added):\n",
    "    date=datetime_object.day\n",
    "    month=datetime_object.month\n",
    "    year=datetime_object.year\n",
    "\n",
    "    new_month=month+number_of_month_to_be_added\n",
    "    \n",
    "    if new_month>12:\n",
    "        year=year+1\n",
    "        new_month=new_month-12\n",
    "    \n",
    "    return datetime.datetime(year,new_month,date)"
   ]
  },
  {
   "cell_type": "code",
   "execution_count": 163,
   "id": "659bffe5-38d5-437c-9af4-5fda2aeece39",
   "metadata": {},
   "outputs": [],
   "source": [
    "# Define some variables for later use\n",
    "\n",
    "past_1_month_data_2020=None # training data\n",
    "path_3_month_data_2020=None # training data\n",
    "path_1_year_data_2020=None # training data\n",
    "label=None # label\n",
    "\n",
    "validation_1_month_2021=None # validation set\n",
    "validation_3_month_2021=None # validation set\n",
    "validation_1_year_2021=None # validation set"
   ]
  },
  {
   "cell_type": "code",
   "execution_count": 164,
   "id": "d3b81510-71de-4348-840c-c86aef48ad21",
   "metadata": {},
   "outputs": [],
   "source": [
    "# Get the Boolean indexing for training data\n",
    "\n",
    "# Split Month column by delimiter '-' for separating year, month and day\n",
    "splitted_column_by_year_month_date=data['Month'].str.split('-', expand=True) \n",
    "splitted_column_by_year_month_date\n",
    "\n",
    "# get the boolean array for months between 2019 and 2022\n",
    "boolean_2019_to_2022 = ((splitted_column_by_year_month_date[0]== '2020')|(splitted_column_by_year_month_date[0]== '2019') | (splitted_column_by_year_month_date[0]== '2021') |(splitted_column_by_year_month_date[0]== '2022'))\n",
    "date_2019_to_2022 = data.loc[boolean_2019_to_2022]"
   ]
  },
  {
   "cell_type": "code",
   "execution_count": 169,
   "id": "f11e43f3-7774-4765-b8f8-6556eb4cbf45",
   "metadata": {},
   "outputs": [],
   "source": [
    "# Preparing training data for year 2020\n",
    "# We assume that return is the difference between med_close of different months!\n",
    "\n",
    "tickers = date_2019_to_2022['Ticker'].unique() # get a list of tickers\n",
    "\n",
    "Ticker=[]\n",
    "past_one_month_data_2020=[]\n",
    "past_three_month_data_2020=[]\n",
    "past_one_year_data_2020=[]\n",
    "label_train=[]\n",
    "\n",
    "month_of_2020=[datetime.datetime(2020,i,1) for i in range(1,13)] # generating a list of month(datetime object), e.g. '2020-01-01'\n",
    "month_of_2021=[datetime.datetime(2021,i,1) for i in range(1,13)]\n",
    "\n",
    "\n",
    "\n",
    "\n",
    "\n",
    "for ticker in tickers:\n",
    "    for month in month_of_2020:\n",
    "        \n",
    "        Ticker.append(ticker.split('.')[0])   \n",
    "        \n",
    "        # getting the return by calculating the difference between med_close of this month and last month\n",
    "        retrn_one_month = date_2019_to_2022.loc[(date_2019_to_2022['Ticker']==ticker) & (date_2019_to_2022['Month']==month.strftime('%Y-%m-%d'))]['Median'].iloc[0] \n",
    "        -  date_2019_to_2022.loc[(date_2019_to_2022['Ticker']==ticker) & (date_2019_to_2022['Month']==subtract_month(month,1).strftime('%Y-%m-%d'))]['Median'].iloc[0]\n",
    "        past_one_month_data_2020.append(retrn_one_month)\n",
    "        \n",
    "        # getting the return by calculating the difference between med_close of this month and 3 months ago\n",
    "        retrn_three_month = date_2019_to_2022.loc[(date_2019_to_2022['Ticker']==ticker) & (date_2019_to_2022['Month']==month.strftime('%Y-%m-%d'))]['Median'].iloc[0] -  date_2019_to_2022.loc[(date_2019_to_2022['Ticker']==ticker) & (date_2019_to_2022['Month']==subtract_month(month,3).strftime('%Y-%m-%d'))]['Median'].iloc[0]\n",
    "        past_three_month_data_2020.append(retrn_three_month)\n",
    "        \n",
    "        # getting the return by calculating the difference between med_close of this month and 1 year ago\n",
    "        retrn_one_year = date_2019_to_2022.loc[(date_2019_to_2022['Ticker']==ticker) & (date_2019_to_2022['Month']==month.strftime('%Y-%m-%d'))]['Median'].iloc[0] -  date_2019_to_2022.loc[(date_2019_to_2022['Ticker']==ticker) & (date_2019_to_2022['Month']==subtract_month(month,12).strftime('%Y-%m-%d'))]['Median'].iloc[0]\n",
    "        past_one_year_data_2020.append(retrn_one_year)\n",
    "\n",
    "        # label is the med_close of next month\n",
    "        retrn_label = date_2019_to_2022.loc[(date_2019_to_2022['Ticker']==ticker) & (date_2019_to_2022['Month']==add_month(month,1).strftime('%Y-%m-%d'))]['Median'].iloc[0]\n",
    "        label_train.append(retrn_label)\n",
    "\n",
    "training_data=pd.DataFrame({\n",
    "    'Ticker':Ticker,\n",
    "    'past_one_month_data_2020':past_one_month_data_2020,   \n",
    "    'past_three_month_data_2020':past_three_month_data_2020,\n",
    "    'past_one_year_data_2020':past_one_year_data_2020,\n",
    "    'label_train':label_train\n",
    "    })\n",
    "\n",
    "training_data.to_csv('training_data.csv') # save training data to csv"
   ]
  },
  {
   "cell_type": "code",
   "execution_count": 170,
   "id": "0d750462-9d63-4b7a-9dfb-81ee58d07958",
   "metadata": {},
   "outputs": [
    {
     "data": {
      "text/plain": [
       "LGBMRegressor()"
      ]
     },
     "execution_count": 170,
     "metadata": {},
     "output_type": "execute_result"
    }
   ],
   "source": [
    "# Model building by fitting the training data\n",
    "\n",
    "model = lgb.LGBMRegressor() # Building a lgb Regressor object\n",
    "data=pd.read_csv('training_data.csv') # Read the training data from year 2020\n",
    "ticker=data['Ticker'].to_numpy() \n",
    "past_one_month_data_2020=data['past_one_month_data_2020'].to_numpy().astype(float) # converting return to floats\n",
    "past_three_month_data_2020=data['past_three_month_data_2020'].to_numpy().astype(float)\n",
    "past_one_year_data_2020=data['past_one_year_data_2020'].to_numpy().astype(float)\n",
    "label_train=data['label_train'].to_numpy().astype(int) # converting ticker number to integer\n",
    "\n",
    "features = list(zip(ticker,past_one_month_data_2020, past_three_month_data_2020,past_one_year_data_2020))# Combine all the features into single list of tuples\n",
    "\n",
    "model.fit(features, label_train) # train the lgb model"
   ]
  },
  {
   "cell_type": "code",
   "execution_count": 180,
   "id": "eabd7b23-4da5-4037-bec9-d190e1f4f3a0",
   "metadata": {},
   "outputs": [],
   "source": [
    "# Preparing validation data for year 2021\n",
    "\n",
    "tickers = date_2019_to_2022['Ticker'].unique() # get a list of tickers\n",
    "month_of_2021=[datetime.datetime(2021,i,1) for i in range(1,9)]# generating a list of month(datetime object), e.g. '2020-01-01', excluding Oct-Dec, 2021 (there is no 2022-Jan for label)\n",
    "\n",
    "Ticker=[]\n",
    "past_one_month_data_2021=[]\n",
    "past_three_month_data_2021=[]\n",
    "past_one_year_data_2021=[]\n",
    "label_test=[]\n",
    "\n",
    "for ticker in tickers:\n",
    "    for month in month_of_2021:\n",
    "        \n",
    "        Ticker.append(ticker.split('.')[0])   \n",
    "        \n",
    "        # getting the return by calculating the difference between med_close of this month and last month\n",
    "        retrn_one_month = date_2019_to_2022.loc[(date_2019_to_2022['Ticker']==ticker) & (date_2019_to_2022['Month']==month.strftime('%Y-%m-%d'))]['Median'].iloc[0] \n",
    "        -  date_2019_to_2022.loc[(date_2019_to_2022['Ticker']==ticker) & (date_2019_to_2022['Month']==subtract_month(month,1).strftime('%Y-%m-%d'))]['Median'].iloc[0]\n",
    "        past_one_month_data_2021.append(retrn_one_month)\n",
    "        \n",
    "        # getting the return by calculating the difference between med_close of this month and 3 months ago\n",
    "        retrn_three_month = date_2019_to_2022.loc[(date_2019_to_2022['Ticker']==ticker) & (date_2019_to_2022['Month']==month.strftime('%Y-%m-%d'))]['Median'].iloc[0] -  date_2019_to_2022.loc[(date_2019_to_2022['Ticker']==ticker) & (date_2019_to_2022['Month']==subtract_month(month,3).strftime('%Y-%m-%d'))]['Median'].iloc[0]\n",
    "        past_three_month_data_2021.append(retrn_three_month)\n",
    "        \n",
    "        # getting the return by calculating the difference between med_close of this month and 1 year ago\n",
    "        retrn_one_year = date_2019_to_2022.loc[(date_2019_to_2022['Ticker']==ticker) & (date_2019_to_2022['Month']==month.strftime('%Y-%m-%d'))]['Median'].iloc[0] -  date_2019_to_2022.loc[(date_2019_to_2022['Ticker']==ticker) & (date_2019_to_2022['Month']==subtract_month(month,12).strftime('%Y-%m-%d'))]['Median'].iloc[0]\n",
    "        past_one_year_data_2021.append(retrn_one_year)\n",
    "\n",
    "        # label is the med_close of next month\n",
    "        retrn_label = date_2019_to_2022.loc[(date_2019_to_2022['Ticker']==ticker) & (date_2019_to_2022['Month']==add_month(month,1).strftime('%Y-%m-%d'))]['Median'].iloc[0]\n",
    "        label_test.append(retrn_label)\n",
    "\n",
    "testing_data=pd.DataFrame({\n",
    "    'Ticker':Ticker,\n",
    "    'past_one_month_data_2021':past_one_month_data_2021,   \n",
    "    'past_three_month_data_2021':past_three_month_data_2021,\n",
    "    'past_one_year_data_2021':past_one_year_data_2021,\n",
    "    'label_test':label_test\n",
    "    })\n",
    "\n",
    "testing_data.to_csv('testing_data.csv') "
   ]
  },
  {
   "cell_type": "code",
   "execution_count": 181,
   "id": "fc316a5b-bbd5-4dcc-b29e-370b5683a490",
   "metadata": {},
   "outputs": [
    {
     "name": "stdout",
     "output_type": "stream",
     "text": [
      "The accuracy score is: 0.8445201964118451\n"
     ]
    }
   ],
   "source": [
    "# Load testing_data and get model accuracy score\n",
    "data=pd.read_csv('testing_data.csv') # Read the testing data from year 2021\n",
    "\n",
    "ticker=data['Ticker'].to_numpy() \n",
    "past_one_month_data_2021=data['past_one_month_data_2021'].to_numpy().astype(float) # converting return to floats\n",
    "past_three_month_data_2021=data['past_three_month_data_2021'].to_numpy().astype(float)\n",
    "past_one_year_data_2021=data['past_one_year_data_2021'].to_numpy().astype(float)\n",
    "label_test=data['label_test'].to_numpy().astype(int) # converting ticker number to integer\n",
    "\n",
    "features = list(zip(ticker,past_one_month_data_2021, past_three_month_data_2021,past_one_year_data_2021))\n",
    "\n",
    "score=model.score(features,label_test)\n",
    "print('The accuracy score is: ' +str(score))"
   ]
  },
  {
   "cell_type": "code",
   "execution_count": null,
   "id": "c6268f5c-6f65-424d-96ee-7fafd2f4c388",
   "metadata": {},
   "outputs": [],
   "source": []
  }
 ],
 "metadata": {
  "kernelspec": {
   "display_name": "Python 3 (ipykernel)",
   "language": "python",
   "name": "python3"
  },
  "language_info": {
   "codemirror_mode": {
    "name": "ipython",
    "version": 3
   },
   "file_extension": ".py",
   "mimetype": "text/x-python",
   "name": "python",
   "nbconvert_exporter": "python",
   "pygments_lexer": "ipython3",
   "version": "3.9.7"
  }
 },
 "nbformat": 4,
 "nbformat_minor": 5
}
