{
 "cells": [
  {
   "cell_type": "code",
   "execution_count": 69,
   "id": "411fee8f-65d6-4919-973f-db41d131e42f",
   "metadata": {},
   "outputs": [
    {
     "name": "stdout",
     "output_type": "stream",
     "text": [
      "C:\\Users\\user\\Desktop\\Git\\Lightgbm\n"
     ]
    }
   ],
   "source": [
    "import lightgbm as lgb\n",
    "import pandas as pd\n",
    "import datetime\n",
    "\n",
    "%cd C:\\Users\\user\\Desktop\\Git\\Lightgbm\n",
    "data = pd.read_csv('med_close.csv')\n"
   ]
  },
  {
   "cell_type": "code",
   "execution_count": 70,
   "id": "659bffe5-38d5-437c-9af4-5fda2aeece39",
   "metadata": {},
   "outputs": [],
   "source": [
    "past_1_month_data_2020=None # training data\n",
    "path_3_month_data_2020=None # training data\n",
    "path_1_year_data_2020=None # training data\n",
    "label=None # label\n",
    "\n",
    "validation_1_month_2021=None # validation set\n",
    "validation_3_month_2021=None # validation set\n",
    "validation_1_year_2021=None # validation set"
   ]
  },
  {
   "cell_type": "code",
   "execution_count": 81,
   "id": "d3b81510-71de-4348-840c-c86aef48ad21",
   "metadata": {},
   "outputs": [],
   "source": [
    "# Split Month column by delimiter - for year, month and date\n",
    "splitted_column_by_year_month_date=data['Month'].str.split('-', expand=True) \n",
    "splitted_column_by_year_month_date\n",
    "\n",
    "# get the boolean array for Jan-2020\n",
    "boolean_january_2020 = (data['Month']==datetime.datetime(2020, 1, 1).strftime('%Y-%m-%d')) | (data['Month']==datetime.datetime(2020, 2, 1).strftime('%Y-%m-%d'))# get the boolean array for Jan-2020 and Feb-2020\n",
    "past_1_month_data_2020=data.loc[boolean_january_2020]\n",
    "\n",
    "# get the boolean array for Jan-2020 to March-2020\n",
    "boolean_january_to_march_2020 = (splitted_column_by_year_month_date[0]== '2020')&((splitted_column_by_year_month_date[1]== '01') | (splitted_column_by_year_month_date[1]== '02') |(splitted_column_by_year_month_date[1]== '03'))\n",
    "path_3_month_data_2020 = data.loc[boolean_january_to_march_2020]\n",
    "\n",
    "# get the boolean array for whole 2020 year\n",
    "boolean_1_year_data_2020 = (splitted_column_by_year_month_date[0]== '2020')\n",
    "path_1_year_data_2020=data.loc[boolean_1_year_data_2020]\n",
    "\n",
    "# get the boolean array for Jan-2021\n",
    "boolean_january_2021 = (data['Month']==datetime.datetime(2021, 1, 1).strftime('%Y-%m-%d'))# get the boolean array for Jan-2021\n",
    "past_january_2021=data.loc[boolean_january_2021]"
   ]
  },
  {
   "cell_type": "code",
   "execution_count": 98,
   "id": "f11e43f3-7774-4765-b8f8-6556eb4cbf45",
   "metadata": {},
   "outputs": [],
   "source": [
    "# Get the training data for year 2020 and label for Jan-2021\n",
    "# define return as the difference between med_close\n",
    "\n",
    "tickers = past_1_month_data_2020['Ticker'].unique() # get a list of tickers\n",
    "\n",
    "Ticker=[]\n",
    "past_one_month_data_2020=[]\n",
    "past_three_month_data_2020=[]\n",
    "past_one_year_data_2020=[]\n",
    "label=[]\n",
    "\n",
    "for ticker in tickers:\n",
    "    Ticker.append(ticker.split('.')[0])   \n",
    "    \n",
    "    retrn_one_month=past_1_month_data_2020.loc[(past_1_month_data_2020['Ticker']==ticker) & (past_1_month_data_2020['Month']=='2020-02-01')]['Median'].iloc[0] -  past_1_month_data_2020.loc[(past_1_month_data_2020['Ticker']==ticker) & (past_1_month_data_2020['Month']=='2020-01-01')]['Median'].iloc[0]\n",
    "    past_one_month_data_2020.append(retrn_one_month)\n",
    "    \n",
    "    retrn_three_month=path_3_month_data_2020.loc[(path_3_month_data_2020['Ticker']==ticker) & (path_3_month_data_2020['Month']=='2020-03-01')]['Median'].iloc[0] -  path_3_month_data_2020.loc[(path_3_month_data_2020['Ticker']==ticker) & (path_3_month_data_2020['Month']=='2020-01-01')]['Median'].iloc[0]\n",
    "    past_three_month_data_2020.append(retrn_three_month)\n",
    "    \n",
    "    retrn_one_year=path_1_year_data_2020.loc[(path_1_year_data_2020['Ticker']==ticker) & (path_1_year_data_2020['Month']=='2020-12-01')]['Median'].iloc[0] -  path_1_year_data_2020.loc[(path_1_year_data_2020['Ticker']==ticker) & (path_1_year_data_2020['Month']=='2020-01-01')]['Median'].iloc[0]\n",
    "    past_one_year_data_2020.append(retrn_one_year)\n",
    "    \n",
    "    # label is the med_close at Jan-2021 (assume that I am now at Dec-2020 and wants to predict Jan-2021)\n",
    "    retrn_jan_2021=past_january_2021.loc[(past_january_2021['Ticker']==ticker) & (past_january_2021['Month']=='2021-01-01')]['Median'].iloc[0]\n",
    "    label.append(retrn_jan_2021)\n",
    "\n",
    "training_data=pd.DataFrame({\n",
    "    'Ticker':Ticker,\n",
    "    'past_one_month_data_2020':past_one_month_data_2020,   \n",
    "    'past_three_month_data_2020':past_three_month_data_2020,\n",
    "    'past_one_year_data_2020':past_one_year_data_2020,\n",
    "    'label':label\n",
    "    })\n",
    "training_data\n",
    "training_data.to_csv('training_data.csv')"
   ]
  },
  {
   "cell_type": "code",
   "execution_count": 100,
   "id": "0d750462-9d63-4b7a-9dfb-81ee58d07958",
   "metadata": {},
   "outputs": [
    {
     "data": {
      "text/plain": [
       "LGBMRegressor()"
      ]
     },
     "execution_count": 100,
     "metadata": {},
     "output_type": "execute_result"
    }
   ],
   "source": [
    "# Model building\n",
    "import numpy as np\n",
    "model = lgb.LGBMRegressor()\n",
    "data=pd.read_csv('training_data.csv')\n",
    "ticker=data['Ticker'].to_numpy()\n",
    "past_one_month_data_2020=data['past_one_month_data_2020'].to_numpy().astype(float)\n",
    "past_three_month_data_2020=data['past_three_month_data_2020'].to_numpy().astype(float)\n",
    "past_one_year_data_2020=data['past_one_year_data_2020'].to_numpy().astype(float)\n",
    "label=data['label'].to_numpy().astype(int)\n",
    "\n",
    "features = list(zip(ticker,past_one_month_data_2020, past_three_month_data_2020,past_one_year_data_2020))# Combine all the features into single list of tuples\n",
    "\n",
    "model.fit(features, label)"
   ]
  },
  {
   "cell_type": "code",
   "execution_count": null,
   "id": "eabd7b23-4da5-4037-bec9-d190e1f4f3a0",
   "metadata": {},
   "outputs": [],
   "source": [
    "# Model testing\n",
    "\n",
    "Ticker=[]\n",
    "past_one_month_data_2021=[]\n",
    "past_three_month_data_2021=[]\n",
    "past_one_year_data_2021=[]\n",
    "label_test=[]\n",
    "\n",
    "for ticker in tickers:\n",
    "    Ticker.append(ticker.split('.')[0])   \n",
    "    \n",
    "    retrn_one_month=past_1_month_data_2021.loc[(past_1_month_data_2020['Ticker']==ticker) & (past_1_month_data_2020['Month']=='2020-02-01')]['Median'].iloc[0] -  past_1_month_data_2020.loc[(past_1_month_data_2020['Ticker']==ticker) & (past_1_month_data_2020['Month']=='2020-01-01')]['Median'].iloc[0]\n",
    "    past_one_month_data_2020.append(retrn_one_month)\n",
    "    \n",
    "    retrn_three_month=path_3_month_data_2020.loc[(path_3_month_data_2020['Ticker']==ticker) & (path_3_month_data_2020['Month']=='2020-03-01')]['Median'].iloc[0] -  path_3_month_data_2020.loc[(path_3_month_data_2020['Ticker']==ticker) & (path_3_month_data_2020['Month']=='2020-01-01')]['Median'].iloc[0]\n",
    "    past_three_month_data_2020.append(retrn_three_month)\n",
    "    \n",
    "    retrn_one_year=path_1_year_data_2020.loc[(path_1_year_data_2020['Ticker']==ticker) & (path_1_year_data_2020['Month']=='2020-12-01')]['Median'].iloc[0] -  path_1_year_data_2020.loc[(path_1_year_data_2020['Ticker']==ticker) & (path_1_year_data_2020['Month']=='2020-01-01')]['Median'].iloc[0]\n",
    "    past_one_year_data_2020.append(retrn_one_year)\n",
    "    \n",
    "    # label is the med_close at Jan-2021 (assume that I am now at Dec-2020 and wants to predict Jan-2021)\n",
    "    retrn_jan_2021=past_january_2021.loc[(past_january_2021['Ticker']==ticker) & (past_january_2021['Month']=='2021-01-01')]['Median'].iloc[0]\n",
    "    label.append(retrn_jan_2021)\n",
    "\n",
    "testing_data=pd.DataFrame({\n",
    "    'Ticker':Ticker,\n",
    "    'past_one_month_data_2020':past_one_month_data_2020,   \n",
    "    'past_three_month_data_2020':past_three_month_data_2020,\n",
    "    'past_one_year_data_2020':past_one_year_data_2020,\n",
    "    'label':label\n",
    "    })\n",
    "training_data\n",
    "training_data.to_csv('training_data.csv')"
   ]
  }
 ],
 "metadata": {
  "kernelspec": {
   "display_name": "Python 3 (ipykernel)",
   "language": "python",
   "name": "python3"
  },
  "language_info": {
   "codemirror_mode": {
    "name": "ipython",
    "version": 3
   },
   "file_extension": ".py",
   "mimetype": "text/x-python",
   "name": "python",
   "nbconvert_exporter": "python",
   "pygments_lexer": "ipython3",
   "version": "3.9.7"
  }
 },
 "nbformat": 4,
 "nbformat_minor": 5
}
