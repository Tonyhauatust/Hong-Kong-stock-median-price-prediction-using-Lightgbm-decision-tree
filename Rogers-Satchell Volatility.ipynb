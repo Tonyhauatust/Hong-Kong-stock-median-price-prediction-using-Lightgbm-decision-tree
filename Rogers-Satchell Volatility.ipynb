{
 "cells": [
  {
   "cell_type": "code",
   "execution_count": null,
   "id": "e3e19f34-5381-4e48-8ebe-c5f67e417131",
   "metadata": {},
   "outputs": [],
   "source": [
    "# Rogers-Satchell Volatility\n",
    "import pandas as pd\n",
    "import numpy as np\n",
    "\n",
    "# Assume that date_2020 containts the OHLC for all the stocks for April and September two months \n",
    "#(Make the separation larger to catch the degree of volatility)\n",
    "\n",
    "# Change date format to '%Y/%d'\n",
    "date_2020['Month']= pd.to_datetime(date_2020['Month'])\n",
    "date_2020['Month'] = date_2020['Month'].dt.strftime('%Y-%m')\n",
    "\n",
    "# Get the ticker list\n",
    "tickers = date_2020['Ticker'].unique()\n",
    "\n",
    "RS_volatility={} # define a dictioanry to store the RS_volatility\n",
    "dummy=[]\n",
    "\n",
    "for ticker in tickers:\n",
    "    data=date_2020.loc[(date_2020['Ticker']==ticker) & (date_2020['Month']=='2020-04') & (date_2020['Month']=='2020-09')] # get the OHLC for April and \n",
    "                                                                                                                          # Septermber\n",
    "    \n",
    "    dummy = [np.log(row['high']/row['close'])*np.log(row['high']/row['open'])+np.log(row['low']/row['close'])*np.log(row['low']/row['open'])\n",
    "             for row in data.iterrows()] # calculate the log of the fraction for OHLC\n",
    "    \n",
    "    addup=sum(dummy) # sum them all up\n",
    "    \n",
    "    RS_volatility[ticker]=np.sqrt(addup/60) # Assume that there is data for each day in these two months, and that the total number of days \n",
    "                                            # in these two months is 60 \n",
    "\n",
    "print(RS_volatility)\n",
    "    "
   ]
  }
 ],
 "metadata": {
  "kernelspec": {
   "display_name": "Python 3 (ipykernel)",
   "language": "python",
   "name": "python3"
  },
  "language_info": {
   "codemirror_mode": {
    "name": "ipython",
    "version": 3
   },
   "file_extension": ".py",
   "mimetype": "text/x-python",
   "name": "python",
   "nbconvert_exporter": "python",
   "pygments_lexer": "ipython3",
   "version": "3.9.7"
  }
 },
 "nbformat": 4,
 "nbformat_minor": 5
}
